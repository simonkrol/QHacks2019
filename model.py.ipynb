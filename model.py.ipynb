{
 "cells": [
  {
   "cell_type": "code",
   "execution_count": 6,
   "metadata": {},
   "outputs": [],
   "source": [
    "import os\n",
    "import pandas as pd\n",
    "\n",
    "import librosa\n",
    "import librosa.display\n",
    "\n",
    "import numpy as np\n",
    "\n",
    "from keras.utils import np_utils\n",
    "\n",
    "from matplotlib import pyplot as plt\n",
    "\n",
    "from sklearn import metrics \n",
    "from sklearn.model_selection import train_test_split\n",
    "from sklearn.ensemble import RandomForestClassifier\n",
    "\n",
    "import pickle\n"
   ]
  },
  {
   "cell_type": "code",
   "execution_count": 2,
   "metadata": {},
   "outputs": [],
   "source": [
    "def getData():\n",
    "    df = pd.read_csv('input/train.csv')\n",
    "\n",
    "    Classes = df.Class.unique().tolist()\n",
    "    y = []\n",
    "    X = []; yp = []; new_X = []\n",
    "    for i in df.ID:\n",
    "        new, rate = librosa.load('input/train/Train/%d.wav'%i)\n",
    "        mfccs = np.mean(librosa.feature.mfcc(y=new, sr=rate, n_mfcc=200).T, axis = 0)\n",
    "        idx = Classes.index(df[df.ID == i]['Class'].tolist()[0])\n",
    "        yp.append(idx)\n",
    "        new_X.append(mfccs)\n",
    "    return new_X, yp"
   ]
  },
  {
   "cell_type": "code",
   "execution_count": 4,
   "metadata": {},
   "outputs": [],
   "source": [
    "\n",
    "NewX, y = getData()\n"
   ]
  },
  {
   "cell_type": "code",
   "execution_count": 8,
   "metadata": {},
   "outputs": [
    {
     "name": "stdout",
     "output_type": "stream",
     "text": [
      "0.9099264705882353\n"
     ]
    }
   ],
   "source": [
    "\n",
    "\n",
    "X_Train, X_Test, Y_Train, Y_Test = train_test_split(NewX, y, test_size=0.10, shuffle = True)\n",
    "\n",
    "clf = RandomForestClassifier(n_estimators = 200)\n",
    "clf.fit(X_Train, Y_Train)\n",
    "\n",
    "print(clf.score(X_Test, Y_Test))\n",
    "\n"
   ]
  },
  {
   "cell_type": "code",
   "execution_count": 14,
   "metadata": {},
   "outputs": [],
   "source": [
    "filename = 'finalized_model.sav'\n",
    "df = pd.read_csv('input/train.csv')\n",
    "Classes = df.Class.unique().tolist()\n"
   ]
  },
  {
   "cell_type": "code",
   "execution_count": 10,
   "metadata": {},
   "outputs": [],
   "source": [
    "pickle.dump(clf, open(filename, 'wb'))"
   ]
  },
  {
   "cell_type": "code",
   "execution_count": 11,
   "metadata": {},
   "outputs": [],
   "source": [
    "\n",
    "loaded_model = pickle.load(open(filename, 'rb'))\n",
    "\n"
   ]
  },
  {
   "cell_type": "code",
   "execution_count": 12,
   "metadata": {},
   "outputs": [],
   "source": [
    "testResult = loaded_model.score(X_Test, Y_Test)\n",
    "trainResult = loaded_model.score(X_Train, Y_Train)"
   ]
  },
  {
   "cell_type": "code",
   "execution_count": 17,
   "metadata": {},
   "outputs": [
    {
     "name": "stdout",
     "output_type": "stream",
     "text": [
      "495.0/544 0.9099264705882353%\n",
      "4891.0/4891 1.0%\n",
      "[[0.025 0.03  0.01  ... 0.01  0.    0.005]\n",
      " [0.005 0.045 0.015 ... 0.005 0.    0.005]\n",
      " [0.02  0.025 0.015 ... 0.04  0.025 0.   ]\n",
      " ...\n",
      " [0.015 0.02  0.    ... 0.805 0.01  0.005]\n",
      " [0.11  0.025 0.005 ... 0.025 0.015 0.005]\n",
      " [0.005 0.02  0.    ... 0.905 0.01  0.   ]]\n",
      "['siren', 'street_music', 'drilling', 'dog_bark', 'children_playing', 'gun_shot', 'engine_idling', 'air_conditioner', 'jackhammer', 'car_horn']\n"
     ]
    }
   ],
   "source": [
    "print(f\"{testResult*len(X_Test)}/{len(X_Test)} {testResult}%\")\n",
    "print(f\"{trainResult*len(X_Train)}/{len(X_Train)} {trainResult}%\")\n",
    "\n",
    "\n",
    "#Gets the probabilities of each value\n",
    "print(loaded_model.predict_proba(X_Train))\n",
    "print(Classes)\n",
    "\n",
    "\n"
   ]
  },
  {
   "cell_type": "code",
   "execution_count": null,
   "metadata": {},
   "outputs": [],
   "source": []
  }
 ],
 "metadata": {
  "kernelspec": {
   "display_name": "QHacks",
   "language": "python",
   "name": "qhacks"
  },
  "language_info": {
   "codemirror_mode": {
    "name": "ipython",
    "version": 3
   },
   "file_extension": ".py",
   "mimetype": "text/x-python",
   "name": "python",
   "nbconvert_exporter": "python",
   "pygments_lexer": "ipython3",
   "version": "3.6.5"
  }
 },
 "nbformat": 4,
 "nbformat_minor": 2
}
